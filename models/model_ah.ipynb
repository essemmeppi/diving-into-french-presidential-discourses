{
 "cells": [
  {
   "cell_type": "markdown",
   "id": "3f3d206f-af6e-4673-9615-29778616897b",
   "metadata": {},
   "source": [
    "# Diving into French Presidential Discourses\n",
    "## Anne Hidalgo (AH)"
   ]
  },
  {
   "cell_type": "code",
   "execution_count": null,
   "id": "4210c155-1e53-4041-9942-9079991e43ce",
   "metadata": {},
   "outputs": [],
   "source": [
    "!pip install minet\n",
    "!pip install pdfminer.six\n",
    "!pip install unidecode\n",
    "!python -m spacy download fr_core_news_sm"
   ]
  },
  {
   "cell_type": "code",
   "execution_count": 1,
   "id": "df6335f4-b780-4bbe-a3e4-6aa2a86792c5",
   "metadata": {},
   "outputs": [],
   "source": [
    "import pandas as pd\n",
    "from pdfminer.high_level import extract_text\n",
    "from gensim.test.utils import datapath\n",
    "from gensim import utils\n",
    "import spacy\n",
    "from collections import Counter\n",
    "import unidecode\n",
    "import gensim.models"
   ]
  },
  {
   "cell_type": "code",
   "execution_count": 2,
   "id": "0dc4ebc1-06b4-446b-a17d-78a3a0548572",
   "metadata": {},
   "outputs": [
    {
     "name": "stdout",
     "output_type": "stream",
     "text": [
      "Searching for \"(from:Anne_Hidalgo) until:2022-03-27 since:2022-01-27\"\n",
      "Collecting tweet: 632 tweets [00:28, 22.28 tweets/s, queries=1, tokens=1]\n"
     ]
    },
    {
     "data": {
      "text/plain": [
       "632"
      ]
     },
     "execution_count": 2,
     "metadata": {},
     "output_type": "execute_result"
    }
   ],
   "source": [
    "## create a .csv of AH's Twitter activity since 27 Jan 2022\n",
    "!minet tw scrape tweets \"(from:Anne_Hidalgo) until:2022-03-27 since:2022-01-27\" > tweets_AH.csv\n",
    "\n",
    "## convert the .csv file in a data frame using pandas\n",
    "df_tw_AH = pd.read_csv(\"./tweets_AH.csv\")\n",
    "\n",
    "## create a list of tweets selecting the 'text' column of the data frame\n",
    "list_tw_AH = df_tw_AH['text'].values.tolist()\n",
    "len(list_tw_AH)"
   ]
  },
  {
   "cell_type": "code",
   "execution_count": 3,
   "id": "42ffe55e-0d34-4566-b6da-32fcdc9200e5",
   "metadata": {},
   "outputs": [
    {
     "name": "stdout",
     "output_type": "stream",
     "text": [
      "Searching for \"(from:faureolivier OR from:Johanna_Rolland OR from:BorisVallaud OR from:Valerie_Rabault OR from:PatrickKanner OR from:RachidTemal OR from:RemiFeraud OR from:PJouvet OR from:SebVincini OR from:GabrielleSiry OR from:algrain_paris10 OR from:ACORDEBARD OR from:RemiFeraud OR from:PotierDominique) until:2022-03-27 since:2022-01-27\"\n",
      "Collecting tweet: 1744 tweets [01:10, 24.70 tweets/s, queries=1, tokens=1]\n",
      "Une excellente candidate pour porter les couleurs de la gauche avec conviction aux prochaines législatives. Très heureux d’avoir participé à cette belle soirée rue Championnet pour soutenir @GabrielleSiry et son suppléant @Karim_Ziady dans la 3e circonscription de #Paris. « GabrielleSiry: Lancement de mon comité de soutien pour les élections législatives : merci à @RemiFeraud et @SergeOrru pour leur soutien : leur engagement est une inspiration, à la hauteur des combats que je souhaite mener pour notre circonscription ! https://twitter.com/GabrielleSiry/status/1507801631869607943/photo/1 — https://twitter.com/gabriellesiry/status/1507801631869607943 »\n",
      "1744\n"
     ]
    }
   ],
   "source": [
    "## retrieve AH's affiliates1 Twitter activity\n",
    "!minet tw scrape tweets \"(from:faureolivier OR from:Johanna_Rolland OR from:BorisVallaud OR from:Valerie_Rabault OR from:PatrickKanner OR from:RachidTemal OR from:RemiFeraud OR from:PJouvet OR from:SebVincini OR from:GabrielleSiry OR from:algrain_paris10 OR from:ACORDEBARD OR from:RemiFeraud OR from:PotierDominique) until:2022-03-27 since:2022-01-27\" > tw_AH_aff_all.csv\n",
    "\n",
    "## convert AH's affiliates' tweets in a list\n",
    "df_tw_AH_aff_all = pd.read_csv(\"tw_AH_aff_all.csv\")\n",
    "list_tw_AH_aff_all = df_tw_AH_aff_all['text'].values.tolist()\n",
    "print(list_tw_AH_aff_all[0])\n",
    "print(len(list_tw_AH_aff_all))"
   ]
  },
  {
   "cell_type": "code",
   "execution_count": 4,
   "id": "daf47185-648a-49fb-be38-f9f2304ae9c0",
   "metadata": {},
   "outputs": [
    {
     "name": "stdout",
     "output_type": "stream",
     "text": [
      "Une excellente candidate pour porter les couleurs de la gauche avec conviction aux prochaines législatives. Très heureux d’avoir participé à cette belle soirée rue Championnet pour soutenir @GabrielleSiry et son suppléant @Karim_Ziady dans la 3e circonscription de #Paris. « GabrielleSiry: Lancement de mon comité de soutien pour les élections législatives : merci à @RemiFeraud et @SergeOrru pour leur soutien : leur engagement est une inspiration, à la hauteur des combats que je souhaite mener pour notre circonscription ! https://twitter.com/GabrielleSiry/status/1507801631869607943/photo/1 — https://twitter.com/gabriellesiry/status/1507801631869607943 »\n",
      "1744\n"
     ]
    }
   ],
   "source": [
    "## convert .csv affiliates' tweets in a list\n",
    "df_tw_AH_aff_all = pd.read_csv(\"tw_AH_aff_all.csv\")\n",
    "list_tw_AH_aff_all = df_tw_AH_aff_all['text'].values.tolist()\n",
    "print(list_tw_AH_aff_all[0])\n",
    "print(len(list_tw_AH_aff_all))"
   ]
  },
  {
   "cell_type": "code",
   "execution_count": 5,
   "id": "3697daf3-95ae-4a06-bf35-48313c77dbfc",
   "metadata": {},
   "outputs": [],
   "source": [
    "## merge AH's and AH's affiliates lists\n",
    "list_tw_AH_all = list_tw_AH + list_tw_AH_aff_all"
   ]
  },
  {
   "cell_type": "code",
   "execution_count": 6,
   "id": "6e7b2809-7364-488e-b139-4b187f76ac17",
   "metadata": {},
   "outputs": [
    {
     "data": {
      "text/plain": [
       "472"
      ]
     },
     "execution_count": 6,
     "metadata": {},
     "output_type": "execute_result"
    }
   ],
   "source": [
    "## i retrieve a string from the pdf of AH's manifesto using extract_text of the pdfminer package\n",
    "## the cleaning process is specific for this manifesto and it depends on the output of extract_text\n",
    "manif_AH = extract_text('/Users/simonemariaparazzoli/Documents/Università/Sciences Po/Diving into public digital spaces/research/manifesto_hidalgo.pdf')\n",
    "manif_clean_AH = manif_AH.replace(' .','')\n",
    "manif_clean_AH = manif_clean_AH.replace('   ','')\n",
    "manif_clean_AH = manif_clean_AH.replace('\\n\\n','')\n",
    "manif_clean_AH = manif_clean_AH.replace('\\n','')\n",
    "manif_clean_AH = manif_clean_AH.replace('. ','---')\n",
    "manif_clean_AH = manif_clean_AH.replace(' _ ','---')\n",
    "manif_clean_AH = manif_clean_AH.replace('\\x0c',' ')\n",
    "#print(repr(manif_clean_AH))\n",
    "\n",
    "## convert the string of the manifesto into a list\n",
    "list_manif_AH = manif_clean_AH.split(\"---\")\n",
    "list_manif_AH = [s for s in list_manif_AH if len(s)>20]\n",
    "len(list_manif_AH)\n",
    "#print(list_manif_EM)'''"
   ]
  },
  {
   "cell_type": "code",
   "execution_count": 18,
   "id": "618a8b18-55c3-4f91-b84d-3549d31a1ce8",
   "metadata": {},
   "outputs": [
    {
     "data": {
      "text/plain": [
       "5224"
      ]
     },
     "execution_count": 18,
     "metadata": {},
     "output_type": "execute_result"
    }
   ], 
   "source": [
    "## merge the two lists of tweets and of the manifesto \n",
    "list_AH = list_tw_AH_all + list_tw_AH_all + list_manif_AH\n",
    "len(list_AH)"
   ]
  },
  {
   "cell_type": "code",
   "execution_count": 19,
   "id": "84887fe8-ab5c-409d-9fb9-4f50b956ff0f",
   "metadata": {},
   "outputs": [],
   "source": [
    "## load a spacy model to retrieve stop words\n",
    "nlp = spacy.load(\"fr_core_news_sm\")\n",
    "stop_words_fr = nlp.Defaults.stop_words\n",
    "#new_sw = [\"avec\",\"la\",\"les\",\"le\",\"pour\",\"un\",\"une\",\"nous\",\"ete\",\"et\",\"je\"]\n",
    "#stop_words_fr.add(new_sw)\n",
    "\n",
    "## clean the list of tweets and manifesto to get rid of useless words and make the list content homogeneous\n",
    "list_AH_clean = []\n",
    "for i in list_AH:\n",
    "    doc = nlp(i)\n",
    "    tokens = [unidecode.unidecode(token.text).lower()for token in doc \n",
    "              if ( token.text not in stop_words_fr and\n",
    "                  len(token.text)>1 and\n",
    "                  token.like_url == False )]\n",
    "    tokens_joined = ' '.join(tokens)\n",
    "    list_AH_clean.append(tokens_joined)"
   ]
  },
  {
   "cell_type": "code",
   "execution_count": 20,
   "id": "c54e1f6e-7bc4-4efb-b6b1-85d2070244f8",
   "metadata": {},
   "outputs": [
    {
     "name": "stdout",
     "output_type": "stream",
     "text": [
      "Le but réel de la réforme Macron n’est pas de sauver notre retraite, mais de la réduire parce qu’il considère, ce sont ses mots, que la protection sociale coûte « un pognon de dingue » et qu’elle est inefficace.\n",
      "#HidalgoToulouse\n",
      "---\n",
      "le but reel reforme macron sauver retraite reduire considere mots protection sociale coute pognon dingue inefficace hidalgotoulouse\n"
     ]
    }
   ],
   "source": [
    "## test the output of the cleaning process\n",
    "print(list_AH[2401])\n",
    "print(\"---\")\n",
    "print(list_AH_clean[2401])"
   ]
  },
  {
   "cell_type": "code",
   "execution_count": 21,
   "id": "fd4b3bc1-e469-4d33-b722-1cc16f65b01a",
   "metadata": {},
   "outputs": [],
   "source": [
    "## prepare the corpus as a class\n",
    "class MyCorpus_AH:\n",
    "\n",
    "    def __iter__(self):\n",
    "        for i in list_AH_clean:\n",
    "            # assume there's one document per line, tokens separated by whitespace\n",
    "            yield utils.simple_preprocess(i,min_len=3)"
   ]
  },
  {
   "cell_type": "code",
   "execution_count": 57,
   "id": "6e57a9c3-a47d-45af-9173-1aa8e98b4851",
   "metadata": {},
   "outputs": [],
   "source": [
    "## train the word embeddings model_AH\n",
    "sentences = MyCorpus_AH()\n",
    "model_AH = gensim.models.Word2Vec(sentences=sentences, min_count=10, vector_size=300, epochs=100)"
   ]
  },
  {
   "cell_type": "code",
   "execution_count": 58,
   "id": "80e531f9-0915-40b0-9639-921927812f3e",
   "metadata": {},
   "outputs": [],
   "source": [
    "## transform the corpus list (that is made of tweets and sentences from the manifesto)\n",
    "## in a list containing all the words of the corpus as elements of the list\n",
    "words_AH = []\n",
    "\n",
    "for i in list_AH_clean:\n",
    "    i_split = i.split(' ') #transform the i document into a list (split at blank space)\n",
    "    words_AH.extend(i_split)\n",
    "\n",
    "## clean the list of tokens\n",
    "words_AH_clean = [x for x in words_AH \n",
    "                   if x not in stop_words_fr\n",
    "                   if x != \"\\n\\n\"\n",
    "                   if len(x)>1]"
   ]
  },
  {
   "cell_type": "code",
   "execution_count": 59,
   "id": "54a81e98-3b03-44c9-80e4-e10c5b8d6786",
   "metadata": {},
   "outputs": [
    {
     "name": "stdout",
     "output_type": "stream",
     "text": [
      "[('@anne_hidalgo', 938), ('france', 743), ('hidalgo2022', 679), ('ukraine', 542), ('macron', 456), ('ans', 428), ('gauche', 424), ('contre', 409), ('francais', 395), ('soutien', 340), ('faire', 326), ('@2022avechidalgo', 320), ('projet', 307), ('paris', 305), ('reunir', 274), ('politique', 269), ('femmes', 263), ('peuple', 261), ('guerre', 260), (\"aujourd'hui\", 245), ('europe', 244), ('face', 244), ('poutine', 244), ('sociale', 240), ('pays', 236), ('faut', 233), ('republique', 230), ('presidentielle', 225), ('vie', 224), ('soir', 214)]\n"
     ]
    }
   ],
   "source": [
    "## find the 30 most common words using Counter\n",
    "words_freq_AH = Counter(words_AH_clean)\n",
    "common_words_AH = words_freq_AH.most_common(30)\n",
    "print(common_words_AH)"
   ]
  },
  {
   "cell_type": "code",
   "execution_count": 60,
   "id": "a5f46836-9efe-4be0-94bf-edec4daf8a33",
   "metadata": {},
   "outputs": [
    {
     "name": "stdout",
     "output_type": "stream",
     "text": [
      "[('precieux', 0.381132572889328), ('aines', 0.36713463068008423), ('bienveillante', 0.3328389823436737), ('civile', 0.3111730217933655), ('inclusive', 0.29272687435150146), ('republique', 0.2884858250617981), ('cout', 0.2677302360534668), ('changions', 0.26369690895080566), ('vision', 0.2584975063800812), ('vieillir', 0.25551047921180725), ('champ', 0.25428423285484314), ('renforcement', 0.25345155596733093), ('decider', 0.24807973206043243), ('totalement', 0.2474924623966217), ('payes', 0.24624770879745483), ('permettent', 0.2454967498779297), ('offrir', 0.2447982281446457), ('cap', 0.24459949135780334), ('seniors', 0.24281750619411469), ('soient', 0.2417803406715393), ('changeons', 0.2393186092376709), ('commence', 0.23789656162261963), ('outil', 0.23006369173526764), ('agriculture', 0.2299758791923523), ('bloc', 0.2287089228630066), ('reve', 0.2283480167388916), ('civique', 0.2282690554857254), ('redonner', 0.22751165926456451), ('tourner', 0.22581610083580017), ('donnerai', 0.22540327906608582)]\n"
     ]
    }
   ],
   "source": [
    "## first attempt with the most_similar function on our corpus using our model_AH\n",
    "result = model_AH.wv.most_similar(positive=['societe'], topn=30)\n",
    "print(result)"
   ]
  },
  {
   "cell_type": "code",
   "execution_count": 61,
   "id": "777e6c97-168f-485e-8a40-9fc7de208192",
   "metadata": {},
   "outputs": [
    {
     "name": "stdout",
     "output_type": "stream",
     "text": [
      "2376 , 5224\n"
     ]
    }
   ],
   "source": [
    "print(len(list_tw_AH_all),',',len(list_AH_clean))"
   ]
  },
  {
   "cell_type": "code",
   "execution_count": 62,
   "id": "c2d627ff-d840-44d5-87f9-33dc98a7919c",
   "metadata": {},
   "outputs": [
    {
     "name": "stdout",
     "output_type": "stream",
     "text": [
      "[('decidez', 0.34071430563926697), ('rappelez', 0.3145918548107147), ('valeurs', 0.3075127601623535), ('fidelite', 0.3073122799396515), ('parce', 0.2852688729763031), ('montpellier', 0.28386035561561584), ('deciderez', 0.26342594623565674), ('anne_hidalgo', 0.2577950656414032), ('mdelafosse', 0.2573317885398865), ('reunir', 0.2567092478275299), ('gagne', 0.2513056695461273), ('reunirlafrance', 0.2433544397354126), ('jlmelenchon', 0.238833487033844), ('experience', 0.23153309524059296), ('democratie', 0.22372443974018097), ('democrate', 0.22215700149536133), ('gulsenyil', 0.21858248114585876), ('afrique', 0.21781226992607117), ('bernardjomier', 0.21729089319705963), ('fidele', 0.2145492434501648)]\n"
     ]
    }
   ],
   "source": [
    "result = model_AH.wv.most_similar(positive=['france'], topn=20)\n",
    "print(result)"
   ]
  },
  {
   "cell_type": "code",
   "execution_count": 63,
   "id": "724c2da4-f16f-41b6-bcf2-15fc1e5ba109",
   "metadata": {},
   "outputs": [
    {
     "name": "stdout",
     "output_type": "stream",
     "text": [
      "[('ukrainienne', 0.2812739610671997), ('devenir', 0.2812518775463104), ('pouvoirs', 0.2770009934902191), ('ethique', 0.2624605894088745), ('garantir', 0.2600233256816864), ('urbains', 0.25963282585144043), ('regions', 0.2504827082157135), ('lien', 0.24783118069171906), ('autonomie', 0.24675682187080383), ('niveau', 0.24376583099365234), ('nation', 0.24242480099201202), ('ruraux', 0.23415204882621765), ('handicap', 0.23285698890686035), ('collectivites', 0.2304406315088272), ('chlordecone', 0.23029577732086182), ('heros', 0.22810378670692444), ('issus', 0.22685670852661133), ('territoires', 0.22621211409568787), ('meme', 0.22605392336845398), ('honneur', 0.2207166701555252)]\n"
     ]
    }
   ],
   "source": [
    "result = model_AH.wv.most_similar(positive=['etat'], topn=20)\n",
    "print(result)"
   ]
  },
  {
   "cell_type": "code",
   "execution_count": 64,
   "id": "bd6037e5-ee40-4d09-910d-2c0043be85d1",
   "metadata": {},
   "outputs": [
    {
     "name": "stdout",
     "output_type": "stream",
     "text": [
      "[('agriculteurs', 0.47293615341186523), ('affirmer', 0.41496503353118896), ('energetique', 0.3421960175037384), ('omelchenkovadym', 0.341889888048172), ('menace', 0.33586040139198303), ('perdu', 0.334547758102417), ('alimentaire', 0.33399030566215515), ('independance', 0.3274781405925751), ('defense', 0.3123176395893097), ('arme', 0.308266282081604), ('modele', 0.3074202835559845), ('economique', 0.3069272041320801), ('metropolitain', 0.30682408809661865), ('chaque', 0.30566930770874023), ('international', 0.29368361830711365), ('issus', 0.289353609085083), ('rester', 0.2850973308086395), ('matiere', 0.2848382592201233), ('chine', 0.2835574448108673), ('commencant', 0.2751500904560089)]\n"
     ]
    }
   ],
   "source": [
    "result = model_AH.wv.most_similar(positive=['souverainete'], topn=20)\n",
    "print(result)"
   ]
  },
  {
   "cell_type": "code",
   "execution_count": 65,
   "id": "5717c0b5-067a-4ca3-9c26-ff72cd94b664",
   "metadata": {},
   "outputs": [
    {
     "name": "stdout",
     "output_type": "stream",
     "text": [
      "[('volodymyr', 0.38224995136260986), ('emmanuelmacron', 0.37889397144317627), ('presidence', 0.3377213478088379), ('refuser', 0.3224511742591858), ('zelensky', 0.3127437233924866), ('presidents', 0.30689921975135803), ('vice', 0.2935457229614258), ('etre', 0.2934006154537201), ('organise', 0.2911805808544159), ('ministres', 0.2884267270565033), ('exclusion', 0.2780114412307739), ('courageux', 0.2721307575702667), ('representant', 0.26361098885536194), ('debat', 0.2573014199733734), ('affirme', 0.2561261057853699), ('jacques', 0.25586485862731934), ('ecouter', 0.24847306311130524), ('zelenskyyua', 0.2432822734117508), ('proposee', 0.24154874682426453), ('rafle', 0.2369978129863739)]\n"
     ]
    }
   ],
   "source": [
    "result = model_AH.wv.most_similar(positive=['president'], topn=20)\n",
    "print(result)"
   ]
  },
  {
   "cell_type": "code",
   "execution_count": 66,
   "id": "e0d8e03e-2715-405c-a522-42a56b8e7cd8",
   "metadata": {},
   "outputs": [
    {
     "name": "stdout",
     "output_type": "stream",
     "text": [
      "[('ralliements', 0.2832810580730438), ('strategie', 0.2407638132572174), ('question', 0.23764203488826752), ('pilier', 0.2367904931306839), ('woerth', 0.22274112701416016), ('prend', 0.22060935199260712), ('communs', 0.21880710124969482), ('convictions', 0.2117546945810318), ('antisemitisme', 0.20693084597587585), ('quotidienne', 0.2067946344614029), ('ethique', 0.20551390945911407), ('manque', 0.20505304634571075), ('baisser', 0.20481714606285095), ('cavousf', 0.2040146440267563), ('politiques', 0.2038559764623642), ('j_jaures', 0.20306405425071716), ('presidente', 0.20253965258598328), ('realiste', 0.20054641366004944), ('incarne', 0.19577239453792572), ('morale', 0.19092325866222382)]\n"
     ]
    }
   ],
   "source": [
    "result = model_AH.wv.most_similar(positive=['politique'], topn=20)\n",
    "print(result)"
   ]
  },
  {
   "cell_type": "code",
   "execution_count": 67,
   "id": "32bc437f-ccaf-4487-b574-428be7f748cb",
   "metadata": {},
   "outputs": [
    {
     "name": "stdout",
     "output_type": "stream",
     "text": [
      "[('disposer', 0.3706890940666199), ('corps', 0.3094838261604309), ('destin', 0.30009230971336365), ('soient', 0.28827783465385437), ('incarner', 0.2796982526779175), ('directan', 0.2705259919166565), ('projetmacron', 0.25089362263679504), ('claire', 0.23859640955924988), ('disposition', 0.23431214690208435), ('peuples', 0.23226623237133026), ('sujet', 0.22632962465286255), ('empecher', 0.2261267751455307), ('puissent', 0.22403788566589355), ('lfi', 0.22199535369873047), ('faites', 0.21933452785015106), ('europeennes', 0.21626520156860352), ('accompagnement', 0.2160995453596115), ('ivg', 0.2121640145778656), ('societe', 0.20908771455287933), ('revenu', 0.20883135497570038)]\n"
     ]
    }
   ],
   "source": [
    "result = model_AH.wv.most_similar(positive=['droit'], topn=20)\n",
    "print(result)"
   ]
  },
  {
   "cell_type": "code",
   "execution_count": 68,
   "id": "ac666ad7-b3dc-4b0f-9bbc-2d709ce53172",
   "metadata": {},
   "outputs": [
    {
     "name": "stdout",
     "output_type": "stream",
     "text": [
      "[('comptable', 0.5202212333679199), ('sols', 0.41280192136764526), ('depenses', 0.4071543514728546), ('preuve', 0.3941413462162018), ('page', 0.3856995403766632), ('mds', 0.37629079818725586), ('usagers', 0.3563571274280548), ('carbone', 0.35471275448799133), ('ecarts', 0.345926433801651), ('entreprises', 0.33928415179252625), ('foot', 0.3359219431877136), ('travaux', 0.3301438093185425), ('odyssees', 0.3269922435283661), ('economie', 0.3227898180484772), ('lancer', 0.3202676773071289), ('bloquer', 0.32012686133384705), ('lance', 0.31604135036468506), ('carburants', 0.3136537969112396), ('investissement', 0.31079941987991333), ('die', 0.30482953786849976)]\n"
     ]
    }
   ],
   "source": [
    "result = model_AH.wv.most_similar(positive=['entreprise'], topn=20)\n",
    "print(result)"
   ]
  },
  {
   "cell_type": "code",
   "execution_count": 69,
   "id": "1f0aa5f8-c5b1-4220-b76b-49cd6e28d670",
   "metadata": {},
   "outputs": [
    {
     "name": "stdout",
     "output_type": "stream",
     "text": [
      "[('mobilite', 0.41771724820137024), ('electriques', 0.39899158477783203), ('croissance', 0.3843429386615753), ('odyssees', 0.3760421872138977), ('pilier', 0.373639315366745), ('finance', 0.36747539043426514), ('fonds', 0.3630561828613281), ('renforcement', 0.3542661964893341), ('usagers', 0.34782275557518005), ('protection', 0.34738048911094666), ('secteurs', 0.3444274663925171), ('sols', 0.3443007171154022), ('agricole', 0.3438834249973297), ('carbone', 0.3380207121372223), ('alimentation', 0.33680155873298645), ('economique', 0.3361111581325531), ('eco', 0.33399683237075806), ('renovation', 0.3324301242828369), ('champ', 0.32985439896583557), ('organisations', 0.3251557946205139)]\n"
     ]
    }
   ],
   "source": [
    "result = model_AH.wv.most_similar(positive=['economie'], topn=20)\n",
    "print(result)"
   ]
  },
  {
   "cell_type": "code",
   "execution_count": 70,
   "id": "f5299786-a8e0-4710-b676-9b9f031ced20",
   "metadata": {},
   "outputs": [
    {
     "name": "stdout",
     "output_type": "stream",
     "text": [
      "[('developpement', 0.3724491000175476), ('dotation', 0.3557223677635193), ('bonheur', 0.3528076708316803), ('qualite', 0.35114172101020813), ('emplois', 0.3330519199371338), ('alimentation', 0.32615649700164795), ('formation', 0.30837196111679077), ('reussite', 0.3051411211490631), ('enseignement', 0.30452218651771545), ('biodiversite', 0.3024701476097107), ('installation', 0.2955058813095093), ('faciliter', 0.2918851375579834), ('augmente', 0.2877294421195984), ('eau', 0.28384944796562195), ('numerique', 0.28377529978752136), ('quartiers', 0.282855749130249), ('mds', 0.27929621934890747), ('gratuite', 0.2708461582660675), ('grands', 0.2701988220214844), ('nantesmetropole', 0.2700428068637848)]\n"
     ]
    }
   ],
   "source": [
    "result = model_AH.wv.most_similar(positive=['emploi'], topn=20)\n",
    "print(result)"
   ]
  },
  {
   "cell_type": "code",
   "execution_count": 71,
   "id": "2e6621d8-9a73-42cb-aa74-bd6e28ebb144",
   "metadata": {},
   "outputs": [
    {
     "name": "stdout",
     "output_type": "stream",
     "text": [
      "[('remuneration', 0.30452030897140503), ('realiste', 0.2501106262207031), ('emploi', 0.24749557673931122), ('chomage', 0.2444220334291458), ('revaloriserai', 0.23987029492855072), ('publics', 0.23631884157657623), ('emplois', 0.2347354292869568), ('promesse', 0.22812102735042572), ('mandat', 0.22741606831550598), ('valeur', 0.2263251692056656), ('public', 0.2232770174741745), ('familles', 0.22090263664722443), ('accessible', 0.21758440136909485), ('salaires', 0.21655145287513733), ('ecarts', 0.21306751668453217), ('fhollande', 0.2108084261417389), ('evidemment', 0.20781250298023224), ('finir', 0.20712019503116608), ('residents', 0.20528724789619446), ('longue', 0.20489373803138733)]\n"
     ]
    }
   ],
   "source": [
    "result = model_AH.wv.most_similar(positive=['travail'], topn=20)\n",
    "print(result)"
   ]
  },
  {
   "cell_type": "code",
   "execution_count": 72,
   "id": "5376f871-aef2-4a5d-8455-43d753397e97",
   "metadata": {},
   "outputs": [
    {
     "name": "stdout",
     "output_type": "stream",
     "text": [
      "[('salariales', 0.5740991830825806), ('net', 0.5737103223800659), ('augmenterai', 0.5683633089065552), ('salaires', 0.5678843855857849), ('branches', 0.5621363520622253), ('hausse', 0.5388776063919067), ('revaloriserai', 0.527070164680481), ('augmentation', 0.5226883292198181), ('ouvrirai', 0.5183122158050537), ('salaire', 0.516595184803009), ('ecarts', 0.47715651988983154), ('porterai', 0.45340800285339355), ('augmente', 0.42989227175712585), ('assurance', 0.4287497401237488), ('chomage', 0.4139602482318878), ('laref', 0.3990229368209839), ('revalorisation', 0.3970962166786194), ('indice', 0.3924151062965393), ('cout', 0.38098767399787903), ('bonjourchezvous', 0.3782467842102051)]\n"
     ]
    }
   ],
   "source": [
    "result = model_AH.wv.most_similar(positive=['smic'], topn=20)\n",
    "print(result)"
   ]
  },
  {
   "cell_type": "code",
   "execution_count": 73,
   "id": "afc9a979-a7f9-47a2-838e-1d305dc741f9",
   "metadata": {},
   "outputs": [
    {
     "name": "stdout",
     "output_type": "stream",
     "text": [
      "[('evenement', 0.5454250574111938), ('innovation', 0.5275990962982178), ('mobilite', 0.49291500449180603), ('infranum', 0.4634096622467041), ('secteur', 0.43550387024879456), ('fracture', 0.417537659406662), ('odyssees', 0.411298006772995), ('secteurs', 0.37465527653694153), ('nantesmetropole', 0.3587471544742584), ('musique', 0.34545570611953735), ('investissement', 0.34306302666664124), ('durable', 0.33454790711402893), ('essentiels', 0.32925277948379517), ('recherche', 0.32707276940345764), ('responsable', 0.32430773973464966), ('carbone', 0.32399782538414), ('pilier', 0.317931205034256), ('acces', 0.30832716822624207), ('finance', 0.30758437514305115), ('prive', 0.3057272732257843)]\n"
     ]
    }
   ],
   "source": [
    "result = model_AH.wv.most_similar(positive=['numerique'], topn=20)\n",
    "print(result)"
   ]
  },
  {
   "cell_type": "code",
   "execution_count": 74,
   "id": "8ac7cb28-7290-4214-b0a7-8d58d9981c03",
   "metadata": {},
   "outputs": [
    {
     "name": "stdout",
     "output_type": "stream",
     "text": [
      "[('gafam', 0.45849278569221497), ('abordable', 0.4440786838531494), ('poser', 0.4355752468109131), ('maitrise', 0.43164941668510437), ('cap', 0.4123902916908264), ('loyers', 0.3607327342033386), ('zones', 0.36041703820228577), ('essence', 0.3409052789211273), ('tva', 0.31939253211021423), ('innovation', 0.3082515299320221), ('cout', 0.305747389793396), ('raison', 0.3024924695491791), ('defense', 0.2963048219680786), ('humains', 0.29442209005355835), ('consensus', 0.29282912611961365), ('encadrement', 0.2920837104320526), ('progres', 0.292079359292984), ('immediatement', 0.29024139046669006), ('construire', 0.2842065095901489), ('essentielle', 0.28398117423057556)]\n"
     ]
    }
   ],
   "source": [
    "result = model_AH.wv.most_similar(positive=['donnees'], topn=20)\n",
    "print(result)"
   ]
  },
  {
   "cell_type": "code",
   "execution_count": 75,
   "id": "4055c846-1b13-4be8-8ec5-9e235d950a87",
   "metadata": {},
   "outputs": [
    {
     "name": "stdout",
     "output_type": "stream",
     "text": [
      "[('refaire', 0.28908899426460266), ('union', 0.26282647252082825), ('dangereux', 0.2500469982624054), ('entier', 0.23584188520908356), ('pilier', 0.22605755925178528), ('maniere', 0.21738481521606445), ('exclure', 0.21145999431610107), ('donnees', 0.19533292949199677), ('decisions', 0.19217577576637268), ('pekin', 0.18941394984722137), ('electorale', 0.18890315294265747), ('chaque', 0.18705439567565918), ('oubliez', 0.185744971036911), ('rester', 0.185329407453537), ('positions', 0.18389225006103516), ('par', 0.18233095109462738), ('cop', 0.18103046715259552), ('militaires', 0.18094590306282043), ('interview', 0.18005026876926422), ('refus', 0.17990833520889282)]\n"
     ]
    }
   ],
   "source": [
    "result = model_AH.wv.most_similar(positive=['monde'], topn=20)\n",
    "print(result)"
   ]
  },
  {
   "cell_type": "code",
   "execution_count": 76,
   "id": "6095d55f-ed92-4eaf-bdd6-6ae68487eaca",
   "metadata": {},
   "outputs": [
    {
     "name": "stdout",
     "output_type": "stream",
     "text": [
      "[('simple', 0.4466332793235779), ('faute', 0.34693753719329834), ('credible', 0.3382064402103424), ('papier', 0.33003515005111694), ('audition', 0.31344467401504517), ('devenir', 0.3003777861595154), ('fracture', 0.2994687259197235), ('realiste', 0.29705721139907837), ('paul_denton', 0.295624315738678), ('enseignement', 0.2940289378166199), ('avis', 0.2920251786708832), ('rtlfrance', 0.283662885427475), ('photo', 0.2758488059043884), ('insupportable', 0.27270928025245667), ('triste', 0.27122554183006287), ('franceinter', 0.27064812183380127), ('feminisme', 0.2668645679950714), ('cavousf', 0.2647218704223633), ('transforme', 0.26320335268974304), ('jeancastex', 0.2611727714538574)]\n"
     ]
    }
   ],
   "source": [
    "result = model_AH.wv.most_similar(positive=['realite'], topn=20)\n",
    "print(result)"
   ]
  },
  {
   "cell_type": "code",
   "execution_count": 77,
   "id": "035961dd-1901-435f-a3cf-983f85f6d072",
   "metadata": {},
   "outputs": [
    {
     "name": "stdout",
     "output_type": "stream",
     "text": [
      "[('racistes', 0.47735005617141724), ('petain', 0.469911128282547), ('simple', 0.4392736256122589), ('shoah', 0.4361288249492645), ('complexe', 0.4148815870285034), ('lucbroussy', 0.41276323795318604), ('rappelle', 0.40143677592277527), ('vichy', 0.39762577414512634), ('origines', 0.3898366689682007), ('marine', 0.3709781765937805), ('manifestants', 0.36807698011398315), ('tiennent', 0.3482910394668579), ('devrait', 0.34806370735168457), ('propos', 0.343021422624588), ('travaille', 0.33754125237464905), ('sauf', 0.3360966444015503), ('tragique', 0.33379101753234863), ('certains', 0.3322315514087677), ('qualifier', 0.3315531313419342), ('benefices', 0.3311116397380829)]\n"
     ]
    }
   ],
   "source": [
    "result = model_AH.wv.most_similar(positive=['verite'], topn=20)\n",
    "print(result)"
   ]
  },
  {
   "cell_type": "code",
   "execution_count": 78,
   "id": "e314c668-a602-4ab3-9ea4-7edb62d70b83",
   "metadata": {},
   "outputs": [
    {
     "name": "stdout",
     "output_type": "stream",
     "text": [
      "[('precieux', 0.381132572889328), ('aines', 0.36713463068008423), ('bienveillante', 0.3328389823436737), ('civile', 0.3111730217933655), ('inclusive', 0.29272687435150146), ('republique', 0.2884858250617981), ('cout', 0.2677302360534668), ('changions', 0.26369690895080566), ('vision', 0.2584975063800812), ('vieillir', 0.25551047921180725), ('champ', 0.25428423285484314), ('renforcement', 0.25345155596733093), ('decider', 0.24807973206043243), ('totalement', 0.2474924623966217), ('payes', 0.24624770879745483), ('permettent', 0.2454967498779297), ('offrir', 0.2447982281446457), ('cap', 0.24459949135780334), ('seniors', 0.24281750619411469), ('soient', 0.2417803406715393)]\n"
     ]
    }
   ],
   "source": [
    "result = model_AH.wv.most_similar(positive=['societe'], topn=20)\n",
    "print(result)"
   ]
  },
  {
   "cell_type": "code",
   "execution_count": 79,
   "id": "61b64259-4c49-42b7-8086-c8586a4d2c7e",
   "metadata": {},
   "outputs": [
    {
     "name": "stdout",
     "output_type": "stream",
     "text": [
      "[('possibilite', 0.3051675260066986), ('destin', 0.27359744906425476), ('parlons', 0.255574107170105), ('concretes', 0.25329533219337463), ('dignement', 0.2503538727760315), ('communs', 0.25003063678741455), ('electriques', 0.24914535880088806), ('continue', 0.23456066846847534), ('sujets', 0.23340171575546265), ('achat', 0.22382187843322754), ('democrate', 0.22267189621925354), ('sondages', 0.22228620946407318), ('profondement', 0.22152754664421082), ('determinee', 0.220190167427063), ('attendent', 0.21638739109039307), ('climatique', 0.21633389592170715), ('moyennes', 0.21586249768733978), ('legitime', 0.21335414052009583), ('preoccupation', 0.21249380707740784), ('vite', 0.21172593533992767)]\n"
     ]
    }
   ],
   "source": [
    "result = model_AH.wv.most_similar(positive=['pouvoir'], topn=20)\n",
    "print(result)"
   ]
  },
  {
   "cell_type": "code",
   "execution_count": 80,
   "id": "edbdfaa9-c8b2-4ab0-b40d-077453106043",
   "metadata": {},
   "outputs": [
    {
     "name": "stdout",
     "output_type": "stream",
     "text": [
      "[('marc', 0.30100083351135254), ('battons', 0.29043400287628174), ('changeons', 0.28612348437309265), ('volonte', 0.2845993936061859), ('chemin', 0.28376731276512146), ('parraine', 0.27413538098335266), ('methode', 0.27089330554008484), ('refaire', 0.26701632142066956), ('faisons', 0.26324155926704407), ('hidalgorennes', 0.26245880126953125), ('prosperite', 0.2522628605365753), ('tronc', 0.24550585448741913), ('majeurs', 0.24447092413902283), ('sujets', 0.24382281303405762), ('avancer', 0.2412956804037094), ('socialiste', 0.24051952362060547), ('confiance', 0.2400171011686325), ('determinee', 0.23867982625961304), ('social', 0.23697319626808167), ('choses', 0.23516565561294556)]\n"
     ]
    }
   ],
   "source": [
    "result = model_AH.wv.most_similar(positive=['avenir'], topn=20)\n",
    "print(result)"
   ]
  },
  {
   "cell_type": "code",
   "execution_count": 81,
   "id": "3b754e4c-60d2-44a5-976f-76a35b368c79",
   "metadata": {},
   "outputs": [
    {
     "name": "stdout",
     "output_type": "stream",
     "text": [
      "[('combattants', 0.3071972131729126), ('sahel', 0.30710071325302124), ('morale', 0.29406267404556274), ('forces', 0.2926237881183624), ('antoniocostaps', 0.288343220949173), ('combattre', 0.27941837906837463), ('hiv', 0.27399811148643494), ('assassines', 0.27377334237098694), ('propos', 0.270337849855423), ('graves', 0.26790398359298706), ('tragique', 0.26584938168525696), ('hollande', 0.2599030137062073), ('jlmelenchon', 0.2582453489303589), ('reelue', 0.25683242082595825), ('aime', 0.2560202479362488), ('memoires', 0.256011426448822), ('ralliements', 0.2547282874584198), ('accepte', 0.2543482482433319), ('vouloir', 0.25295189023017883), ('relache', 0.25274956226348877)]\n"
     ]
    }
   ],
   "source": [
    "result = model_AH.wv.most_similar(positive=['histoire'], topn=20)\n",
    "print(result)"
   ]
  },
  {
   "cell_type": "code",
   "execution_count": 82,
   "id": "fbd89190-a22b-43fc-8474-b65cda6350c6",
   "metadata": {},
   "outputs": [
    {
     "name": "stdout",
     "output_type": "stream",
     "text": [
      "[('harcelement', 0.36389148235321045), ('violences', 0.3537256419658661), ('racisme', 0.3272739350795746), ('terrorisme', 0.3267793357372284), ('islamiste', 0.32606953382492065), ('antisemitisme', 0.30016788840293884), ('discriminations', 0.2955075800418854), ('faites', 0.2887524962425232), ('blesses', 0.2851293385028839), ('tabou', 0.27875399589538574), ('rechauffement', 0.2741753160953522), ('don', 0.26858580112457275), ('precarite', 0.2669621706008911), ('proposee', 0.2568177878856659), ('poursuivre', 0.2564598321914673), ('commencant', 0.2543312907218933), ('bilan', 0.25276345014572144), ('jeudi', 0.24964889883995056), ('moyen', 0.24943232536315918), ('forces', 0.23353268206119537)]\n"
     ]
    }
   ],
   "source": [
    "result = model_AH.wv.most_similar(positive=['contre'], topn=20)\n",
    "print(result)"
   ]
  },
  {
   "cell_type": "code",
   "execution_count": 83,
   "id": "cb997be5-0b25-45a9-9d5b-447b8f2b9872",
   "metadata": {},
   "outputs": [
    {
     "name": "stdout",
     "output_type": "stream",
     "text": [
      "[('veut', 0.30849942564964294), ('arreter', 0.30832216143608093), ('assume', 0.30176687240600586), ('fatalite', 0.27309510111808777), ('faudrait', 0.26373976469039917), ('agresse', 0.25921866297721863), ('raison', 0.2569226920604706), ('maniere', 0.25522276759147644), ('immediat', 0.2522323429584503), ('cesse', 0.2506624758243561), ('proteger', 0.24927698075771332), ('reaction', 0.24636998772621155), ('poids', 0.24080751836299896), ('trouver', 0.24065646529197693), ('consequences', 0.2401774525642395), ('vrai', 0.2394070029258728), ('menee', 0.2387489676475525), ('bloquer', 0.2385166436433792), ('pourra', 0.2307165563106537), ('diplomatie', 0.2304472178220749)]\n"
     ]
    }
   ],
   "source": [
    "result = model_AH.wv.most_similar(positive=['faut'], topn=20)\n",
    "print(result)"
   ]
  },
  {
   "cell_type": "code",
   "execution_count": 84,
   "id": "2ca2eb32-c751-4297-b4c3-fdde7c74bbe9",
   "metadata": {},
   "outputs": [
    {
     "name": "stdout",
     "output_type": "stream",
     "text": [
      "[('devenir', 0.3928050696849823), ('sanitaire', 0.3513595759868622), ('lemondefr', 0.31834131479263306), ('puissance', 0.29567137360572815), ('train', 0.2899491786956787), ('sujets', 0.2674969434738159), ('responsabilite', 0.26642128825187683), ('contexte', 0.25426575541496277), ('quinquennat', 0.25361523032188416), ('scandale', 0.2518555521965027), ('cooperations', 0.24231913685798645), ('assume', 0.24136504530906677), ('rechauffement', 0.23967333137989044), ('mobilise', 0.23547481000423431), ('provenance', 0.23372286558151245), ('crises', 0.23361945152282715), ('diplomatie', 0.22754372656345367), ('credible', 0.2270706444978714), ('encadrement', 0.2259240597486496), ('mondiale', 0.2239297479391098)]\n"
     ]
    }
   ],
   "source": [
    "result = model_AH.wv.most_similar(positive=['crise'], topn=20)\n",
    "print(result)"
   ]
  },
  {
   "cell_type": "code",
   "execution_count": null,
   "id": "387a0e62-e5f2-4e39-bb6b-0120bdab7c20",
   "metadata": {},
   "outputs": [],
   "source": []
  }
 ],
 "metadata": {
  "kernelspec": {
   "display_name": "Python 3 (ipykernel)",
   "language": "python",
   "name": "python3"
  },
  "language_info": {
   "codemirror_mode": {
    "name": "ipython",
    "version": 3
   },
   "file_extension": ".py",
   "mimetype": "text/x-python",
   "name": "python",
   "nbconvert_exporter": "python",
   "pygments_lexer": "ipython3",
   "version": "3.9.7"
  }
 },
 "nbformat": 4,
 "nbformat_minor": 5
}
